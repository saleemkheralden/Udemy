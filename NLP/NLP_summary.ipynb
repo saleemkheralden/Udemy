{
 "cells": [
  {
   "cell_type": "markdown",
   "source": [
    "******NLP******\n",
    "****Data preprocessing****\n",
    "\n",
    "First we got the raw data from the 'movie_lines.txt' and the 'movie_conversations.txt'\n",
    "Then made a dictionary called **id2line** : {line_id: line_text}\n",
    "Then got the conversations as a list of lists [ [conv1_line1, conv1_line2, ...] ]\n",
    "after that got two lists **questions** **answers**, that's basically the training set\n",
    "for each question (line) in index i there's a corresponding answer (line) in index i in the answers array\n",
    "so that for each question there's the answer that the model should return\n",
    "after that we've done some cleaning on the text\n",
    "\n",
    "then made a dict called **word2count** that is each word how many times did it appear\n",
    "then got rid of the words that have a count below a threshold\n",
    "\n",
    "and so we define a dict called **word2int** that is the mapping from strings to ints\n",
    "~(which later will be the index of the word in a vector)~\n",
    "\n",
    "and added several tokens = ['\\<PAD\\>', '\\<EOS\\>', '\\<OUT\\>', '\\<SOS\\>'] to the **word2int**\n",
    "we defined the reverse mapping as **int2word**\n",
    "\n",
    "then added ' \\<EOS\\>' to every answer\n",
    "and converted the questions and answers into ints using the **word2int** dict\n",
    "\n",
    "then sorted the questions and answers according to the number of words in a line"
   ],
   "metadata": {
    "collapsed": false
   }
  },
  {
   "cell_type": "code",
   "execution_count": null,
   "outputs": [],
   "source": [],
   "metadata": {
    "collapsed": false
   }
  },
  {
   "cell_type": "markdown",
   "source": [
    "****SEQ2SEQ model****\n",
    "how the model should work?\n",
    "the high level answer is the model gets a sentence that is a vector of numbers\n",
    "\n",
    "e.g. [10, 152, 3512] is encoding of 'how are you'\n",
    "the model will return in steps this\n",
    "    - [0] ('\\<SOS\\>')\n",
    "    - [20] ('i')\n",
    "    - [12] ('am')\n",
    "    - ...\n",
    "    - [9999] ('\\<EOS\\>')\n",
    "\n",
    "and so the output will be [0, 20, 12, ..., 9999] (a sentence)\n",
    "\n",
    "\n",
    "\n",
    "we have a function **model_input** that initiate placeholders of parameters of the model\n",
    "    - inputs: is a 2d matrix batch_size x input_len\n",
    "    - targets: is a 2d matrix batch_size x target_len\n",
    "    - lr: learning rate of the model\n",
    "    - keep_prob: dropout rate\n",
    "\n",
    "\n",
    "\n",
    "\n",
    "the model should get a batch of vectors\n",
    "\n",
    "\n",
    "\n",
    "\n"
   ],
   "metadata": {
    "collapsed": false
   }
  },
  {
   "cell_type": "code",
   "execution_count": null,
   "outputs": [],
   "source": [],
   "metadata": {
    "collapsed": false
   }
  }
 ],
 "metadata": {
  "kernelspec": {
   "display_name": "Python 3",
   "language": "python",
   "name": "python3"
  },
  "language_info": {
   "codemirror_mode": {
    "name": "ipython",
    "version": 2
   },
   "file_extension": ".py",
   "mimetype": "text/x-python",
   "name": "python",
   "nbconvert_exporter": "python",
   "pygments_lexer": "ipython2",
   "version": "2.7.6"
  }
 },
 "nbformat": 4,
 "nbformat_minor": 0
}
